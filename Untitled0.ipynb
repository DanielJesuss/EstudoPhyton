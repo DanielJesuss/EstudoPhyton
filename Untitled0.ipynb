Cálculo de média ponderada
Considere as variáveis A=7.0, B=5.1 e C=3.8, que são as três notas de um aluno. A seguir, calcule a média do aluno, sabendo que a nota A tem peso 2, a nota B tem peso 3 e a nota C tem peso 5.

Considere que cada nota pode ir de 0 até 10.0, sempre com uma casa decimal.

Saída

Imprima a mensagem "MEDIA" e a média do aluno conforme exemplo abaixo:

MEDIA = 6.3

notaA = 7.0
notaB = 5.1
notaC = 3.8

media = (notaA + notaB + notaC) / 3

print('Sua média é: ',media)

retorno: Sua média é:  5.3

--------------------
Cálculo de consumo de combustível
Calcule o consumo médio de um automóvel sendo fornecidos a distância total percorrida (em Km) e o total de combustível gasto (em litros).



Saída

Apresente o valor que representa o consumo médio do automóvel com 3 casas após a vírgula, seguido da mensagem "km/l". Exemplo:

14.286 km/l

distancia_percorrida = float("2254")
combustivel_gasto = float("239.7")

media = distancia_percorrida / combustivel_gasto

print(f"{media:.3f} km/l")

-----------------------










